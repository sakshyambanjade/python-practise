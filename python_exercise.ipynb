{
  "nbformat": 4,
  "nbformat_minor": 0,
  "metadata": {
    "colab": {
      "provenance": [],
      "authorship_tag": "ABX9TyNzatqEfP2p52Jl2VYqe+8H",
      "include_colab_link": true
    },
    "kernelspec": {
      "name": "python3",
      "display_name": "Python 3"
    },
    "language_info": {
      "name": "python"
    }
  },
  "cells": [
    {
      "cell_type": "markdown",
      "metadata": {
        "id": "view-in-github",
        "colab_type": "text"
      },
      "source": [
        "<a href=\"https://colab.research.google.com/github/sakshyambanjade/python-practise/blob/main/python_exercise.ipynb\" target=\"_parent\"><img src=\"https://colab.research.google.com/assets/colab-badge.svg\" alt=\"Open In Colab\"/></a>"
      ]
    },
    {
      "cell_type": "code",
      "execution_count": 10,
      "metadata": {
        "id": "a1EIerr1pRab",
        "colab": {
          "base_uri": "https://localhost:8080/"
        },
        "outputId": "d562ced8-78d6-4437-ab95-9fe63fd77bf0"
      },
      "outputs": [
        {
          "output_type": "stream",
          "name": "stdout",
          "text": [
            "Enter your Number 1\n",
            "Odd\n"
          ]
        }
      ],
      "source": [
        "#Write a program that checks whether a given number is even or odd.\n",
        "a = int(input(\"Enter your Number \"))\n",
        "if a%2==0:\n",
        "    print(\"Even\")\n",
        "else:\n",
        "    print(\"Odd\")"
      ]
    },
    {
      "cell_type": "code",
      "source": [
        "#Write a Python program to take two numbers as input and perform addition, subtraction, multiplication, and division. Display the results.\n",
        "first_num = int(input(\"enter the first number \"))\n",
        "second_num = int(input(\"enter the second number \"))\n",
        "typeof = input(\"Enter the airthmetic operators\")\n",
        "\n",
        "if typeof == \"+\":\n",
        "  a = first_num+second_num\n",
        "  print(a)\n",
        "elif typeof ==\"-\":\n",
        "  b = first_num-second_num\n",
        "  print(b)\n",
        "elif typeof ==\"*\":\n",
        "  c = first_num*second_num\n",
        "  print(c)\n",
        "elif typeof ==\"/\":\n",
        "  d = first_num/second_num\n",
        "  print(d)\n",
        "else:\n",
        "  print(\"this is invalid\")\n"
      ],
      "metadata": {
        "colab": {
          "base_uri": "https://localhost:8080/"
        },
        "id": "97pAfUQotLKu",
        "outputId": "862e8f81-3cc4-4aee-9e90-5b7b0c03a307"
      },
      "execution_count": 16,
      "outputs": [
        {
          "output_type": "stream",
          "name": "stdout",
          "text": [
            "enter the first number 1\n",
            "enter the second number 2\n",
            "Enter the airthmetic operators/\n",
            "0.5\n"
          ]
        }
      ]
    },
    {
      "cell_type": "code",
      "source": [],
      "metadata": {
        "id": "mwwKabfwz1DB"
      },
      "execution_count": null,
      "outputs": []
    }
  ]
}